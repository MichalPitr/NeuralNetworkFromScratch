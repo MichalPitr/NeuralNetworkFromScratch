{
 "cells": [
  {
   "cell_type": "code",
   "execution_count": null,
   "metadata": {},
   "outputs": [],
   "source": [
    "import pickle\n",
    "import gzip\n",
    "import numpy as np\n",
    "import random\n",
    "import pickle \n",
    "import matplotlib.pyplot as plt\n",
    "import math\n",
    "\n",
    "from losses import losses\n",
    "\n",
    "def load_data():\n",
    "    with gzip.open(\"../data/mnist.pkl.gz\", \"rb\") as file:\n",
    "        train, val, test = pickle.load(file, encoding=\"latin1\")\n",
    "    return train, val, test\n",
    "\n",
    "def load_data_wrapper():\n",
    "    train, val, test = load_data()\n",
    "    \n",
    "    train_inputs = [np.reshape(x, (784, 1)) for x in train[0]]\n",
    "    train_outputs = [one_hot_encode(y, 10) for y in train[1]]\n",
    "    train_data = list(zip(train_inputs, train_outputs))\n",
    "    \n",
    "    val_inputs = [np.reshape(x, (784, 1)) for x in val[0]]\n",
    "    val_data = list(zip(val_inputs, val[1]))\n",
    "    \n",
    "    test_inputs = [np.reshape(x, (784, 1)) for x in test[0]]    \n",
    "    test_data = list(zip(test_inputs, test[1]))\n",
    "    \n",
    "    return train_data, val_data, test_data\n",
    "\n",
    "def one_hot_encode(y, num_categories):\n",
    "    one_hot = np.zeros((num_categories, 1))\n",
    "    one_hot[y] = 1\n",
    "    return one_hot"
   ]
  },
  {
   "cell_type": "code",
   "execution_count": null,
   "metadata": {},
   "outputs": [],
   "source": [
    "def sigmoid(z):\n",
    "    return 1.0/(1.0+np.exp(-z))\n",
    "\n",
    "def sigmoid_derivative(z):\n",
    "    return sigmoid(z)*(1-sigmoid(z))"
   ]
  },
  {
   "cell_type": "code",
   "execution_count": null,
   "metadata": {},
   "outputs": [],
   "source": [
    "train, val, test = load_data_wrapper()"
   ]
  },
  {
   "cell_type": "code",
   "execution_count": null,
   "metadata": {},
   "outputs": [],
   "source": [
    "class NetworkVectorized(object):\n",
    "    def __init__(self, sizes, loss=losses.MSELoss()):\n",
    "        \"\"\"sizes: list of ints signifying size of each layer, including the input and output layers\"\"\"\n",
    "        self.num_layers = len(sizes)\n",
    "        self.sizes = sizes\n",
    "        self.biases = [np.random.randn(y, 1) for y in sizes[1:]]\n",
    "        self.weights = [np.random.randn(next_h, prev_h) \n",
    "                        for next_h, prev_h in zip(sizes[1:], sizes[:-1])]\n",
    "        self.loss = loss\n",
    "    \n",
    "    def feedforward(self, a, return_activations=False):\n",
    "        \"\"\"roughly 3 times faster than for-loop version\"\"\"\n",
    "        activations = [a]\n",
    "        zs = [] \n",
    "        \n",
    "        for w, b in zip(self.weights, self.biases):\n",
    "            z = np.dot(w, a)+b\n",
    "            a = sigmoid(z)\n",
    "            if return_activations:\n",
    "                activations.append(a)\n",
    "                zs.append(z)\n",
    "        if return_activations:\n",
    "            return a, (activations, zs)\n",
    "        return a\n",
    "    \n",
    "    \n",
    "    def SGD(self, train_data, epochs, batch_size, learning_rate, test_data=None):\n",
    "        if test_data:\n",
    "            n_test = len(test_data)\n",
    "        n_train = len(train_data)\n",
    "        \n",
    "        for i in range(epochs):\n",
    "            random.shuffle(train_data)\n",
    "            mini_batches = [train_data[j:j+batch_size] for j in range(0, n_train, batch_size)]\n",
    "            \n",
    "            for mini_batch in mini_batches:\n",
    "                self.update_mini_batch(mini_batch, learning_rate)\n",
    "            \n",
    "            if test_data:\n",
    "                correct_preds = self.evaluate(test_data)\n",
    "                print(f\"Epoch {i}: accuracy: {correct_preds} / {n_test}\")\n",
    "                \n",
    "            else:\n",
    "                print(f\"Epoch {i}: complete\")\n",
    "                \n",
    "                \n",
    "    def update_mini_batch(self, mini_batch, learning_rate):\n",
    "        nabla_b = [np.zeros(b.shape) for b in self.biases]\n",
    "        nabla_w = [np.zeros(w.shape) for w in self.weights]\n",
    "        \n",
    "        x = np.asarray([_x.ravel() for _x, _y in mini_batch]).transpose()\n",
    "        y = np.asarray([_y.ravel() for _x, _y in mini_batch]).transpose()\n",
    "        \n",
    "        delta_nabla_b, delta_nabla_w = self.backprop(x, y)\n",
    "        \n",
    "        nabla_b = [nb+dnb for nb, dnb in zip(nabla_b,delta_nabla_b)]\n",
    "        nabla_w = [nw+dnw for nw, dnw in zip(nabla_w,delta_nabla_w)]\n",
    "        \n",
    "        self.weights = [w -(learning_rate/len(mini_batch))*nw \n",
    "                        for w, nw in zip(self.weights, nabla_w)]    \n",
    "        self.biases = [b -(learning_rate/len(mini_batch))*nb \n",
    "                        for b, nb in zip(self.biases, nabla_b)]\n",
    "        \n",
    "        \n",
    "    def backprop(self, x, y):\n",
    "        nabla_b = [np.zeros(b.shape) for b in self.biases]\n",
    "        nabla_w = [np.zeros(w.shape) for w in self.weights]\n",
    "        \n",
    "        # Forward pass \n",
    "        activations, zs = self.feedforward(x, return_activations=True)[1]\n",
    "\n",
    "            \n",
    "        # Backward pass \n",
    "        dloss = self.loss.backward(activations[-1], y)\n",
    "        dz = dloss * sigmoid_derivative(zs[-1])\n",
    "        nabla_b[-1] = np.sum(dz, axis=1, keepdims=True)\n",
    "        nabla_w[-1] = dz.dot(activations[-2].T)\n",
    "            \n",
    "        for l in range(2, self.num_layers):\n",
    "            z = zs[-l]\n",
    "            d_sigmoid = sigmoid_derivative(z)\n",
    "            dz = self.weights[-l+1].T.dot(dz) * d_sigmoid\n",
    "            nabla_b[-l] = np.sum(dz, axis=1, keepdims=True)\n",
    "            nabla_w[-l] = dz.dot(activations[-l-1].T)\n",
    "        \n",
    "        return nabla_b, nabla_w\n",
    "    \n",
    "    \n",
    "    def evaluate(self, test_data):\n",
    "        x = np.asarray([x.ravel() for x, _ in test_data]).T\n",
    "        y = np.asarray([_y.ravel() for _x, _y in test_data])\n",
    "        \n",
    "        y_hat = self.feedforward(x)\n",
    "        preds = np.expand_dims(np.argmax(y_hat, axis=0), axis=1)\n",
    "        \n",
    "        correct_preds = sum(y == preds)[0]\n",
    "        \n",
    "        return correct_preds\n",
    "    \n",
    "    \n",
    "    def get_activations_for_example(self, x):\n",
    "        activations = [x]\n",
    "        a = x\n",
    "        for w, b in zip(self.weights, self.biases):\n",
    "            a = sigmoid(np.dot(w, a)+b)\n",
    "            activations.append(a)\n",
    "        return activations\n",
    "    \n",
    "    def plot_first_layer_weights(self, name=None):\n",
    "        fig=plt.figure(figsize=(8,8))\n",
    "        w_h, w_w = net.weights[0].shape\n",
    "        fig_cols = math.floor(math.sqrt(w_h))\n",
    "        fig_rows = math.ceil(w_h/fig_cols)\n",
    "                \n",
    "        for i in range(w_h):\n",
    "            img = np.reshape(self.weights[0][i], (28, 28))    \n",
    "            fig.add_subplot(fig_rows, fig_cols, i+1)\n",
    "            plt.imshow(img, interpolation='nearest')\n",
    "        fig.suptitle(f'First Layer Weights', fontsize=20)\n",
    "        \n",
    "        if name:\n",
    "            fig.savefig(f\"{name}.png\")"
   ]
  },
  {
   "cell_type": "markdown",
   "metadata": {},
   "source": [
    "## Training"
   ]
  },
  {
   "cell_type": "code",
   "execution_count": null,
   "metadata": {},
   "outputs": [],
   "source": [
    "net = NetworkVectorized([784, 30, 10], loss=losses.CrossEntropyLoss())"
   ]
  },
  {
   "cell_type": "code",
   "execution_count": null,
   "metadata": {},
   "outputs": [],
   "source": [
    "net.SGD(train_data=train, epochs=30, batch_size=20, learning_rate=3.0, test_data=test)"
   ]
  },
  {
   "cell_type": "code",
   "execution_count": null,
   "metadata": {},
   "outputs": [],
   "source": [
    "net.plot_first_layer_weights(name=\"CrossEntropyLoss\")"
   ]
  },
  {
   "cell_type": "code",
   "execution_count": null,
   "metadata": {},
   "outputs": [],
   "source": [
    "net2 = NetworkVectorized([784, 30, 10], loss=losses.MSELoss())\n",
    "net2.SGD(train_data=train, epochs=30, batch_size=20, learning_rate=3.0, test_data=test)"
   ]
  },
  {
   "cell_type": "code",
   "execution_count": null,
   "metadata": {},
   "outputs": [],
   "source": [
    "net2.plot_first_layer_weights(name=\"MSEloss\")"
   ]
  },
  {
   "cell_type": "code",
   "execution_count": null,
   "metadata": {},
   "outputs": [],
   "source": []
  }
 ],
 "metadata": {
  "kernelspec": {
   "display_name": "Python 3",
   "language": "python",
   "name": "python3"
  },
  "language_info": {
   "codemirror_mode": {
    "name": "ipython",
    "version": 3
   },
   "file_extension": ".py",
   "mimetype": "text/x-python",
   "name": "python",
   "nbconvert_exporter": "python",
   "pygments_lexer": "ipython3",
   "version": "3.8.3"
  }
 },
 "nbformat": 4,
 "nbformat_minor": 4
}
